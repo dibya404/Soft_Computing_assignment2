{
  "nbformat": 4,
  "nbformat_minor": 0,
  "metadata": {
    "colab": {
      "name": "170104049_Exp_02_1_2.ipynb",
      "provenance": [],
      "collapsed_sections": []
    },
    "kernelspec": {
      "name": "python3",
      "display_name": "Python 3"
    },
    "language_info": {
      "name": "python"
    },
    "accelerator": "GPU"
  },
  "cells": [
    {
      "cell_type": "code",
      "metadata": {
        "id": "HT9i40sMM5lt"
      },
      "source": [
        "import os\n",
        "import pandas as pd\n",
        "import torch\n",
        "from torch.utils.data import Dataset, DataLoader  \n",
        "from skimage import io"
      ],
      "execution_count": 1,
      "outputs": []
    },
    {
      "cell_type": "code",
      "metadata": {
        "id": "EvahDt2be8xz"
      },
      "source": [
        "import torch\n",
        "import torch.nn as nn\n",
        "import torchvision.transforms as transforms"
      ],
      "execution_count": 2,
      "outputs": []
    },
    {
      "cell_type": "code",
      "metadata": {
        "id": "USeZSXxquQUZ"
      },
      "source": [
        ""
      ],
      "execution_count": null,
      "outputs": []
    },
    {
      "cell_type": "code",
      "metadata": {
        "colab": {
          "base_uri": "https://localhost:8080/"
        },
        "id": "cjT53blqLYw3",
        "outputId": "b935e649-9cac-4cb9-ef30-28f12e4eb320"
      },
      "source": [
        "from google.colab import drive\n",
        "drive.mount('/content/drive')"
      ],
      "execution_count": 3,
      "outputs": [
        {
          "output_type": "stream",
          "name": "stdout",
          "text": [
            "Mounted at /content/drive\n"
          ]
        }
      ]
    },
    {
      "cell_type": "markdown",
      "metadata": {
        "id": "CdvCkig7I4fY"
      },
      "source": [
        "# Experiment 3"
      ]
    },
    {
      "cell_type": "code",
      "metadata": {
        "colab": {
          "base_uri": "https://localhost:8080/"
        },
        "id": "my-Lx-VJI5zT",
        "outputId": "b43236c3-2c5e-4de8-b543-8a11d55096f6"
      },
      "source": [
        "!unzip \"/content/drive/MyDrive/Colab Notebooks/Dataset_2.zip\""
      ],
      "execution_count": 4,
      "outputs": [
        {
          "output_type": "stream",
          "name": "stdout",
          "text": [
            "Archive:  /content/drive/MyDrive/Colab Notebooks/Dataset_2.zip\n",
            "   creating: Dataset_2/\n",
            "  inflating: Dataset_2/t10k-images-idx3-ubyte  \n",
            "  inflating: Dataset_2/t10k-labels-idx1-ubyte  \n",
            "  inflating: Dataset_2/train-images-idx3-ubyte  \n",
            "  inflating: Dataset_2/train-labels-idx1-ubyte  \n",
            "  inflating: Dataset_2/verification_test.csv  \n",
            "  inflating: Dataset_2/verification_train.csv  \n"
          ]
        }
      ]
    },
    {
      "cell_type": "code",
      "metadata": {
        "id": "WpoWmdLjJLML"
      },
      "source": [
        "train_csv2  = pd.read_csv('/content/Dataset_2/verification_train.csv')\n",
        "test_csv2 = pd.read_csv('/content/Dataset_2/verification_test.csv')"
      ],
      "execution_count": 5,
      "outputs": []
    },
    {
      "cell_type": "code",
      "metadata": {
        "id": "rtmU_CAKJlVN"
      },
      "source": [
        "import numpy as np\n",
        "class second_Dataset(Dataset):\n",
        "    \"\"\"User defined class to build a datset using Pytorch class Dataset.\"\"\"\n",
        "    \n",
        "    def __init__(self, data, transform = None):\n",
        "        \"\"\"Method to initilaize variables.\"\"\" \n",
        "        self.data_MNIST = list(data.values)\n",
        "        self.transform = transform\n",
        "        \n",
        "        label = []\n",
        "        image = []\n",
        "        \n",
        "        for i in self.data_MNIST:\n",
        "             # first column is of labels.\n",
        "            label.append(i[0])\n",
        "            image.append(i[1:])\n",
        "        self.labels = np.asarray(label)\n",
        "        self.images = np.asarray(image).reshape(-1, 28, 28, 1).astype('float32')\n",
        "\n",
        "    def __getitem__(self, index):\n",
        "        label = self.labels[index]\n",
        "        image = self.images[index]\n",
        "        \n",
        "        if self.transform is not None:\n",
        "            image = self.transform(image)\n",
        "\n",
        "        return image, label\n",
        "\n",
        "    def __len__(self):\n",
        "        return len(self.images)"
      ],
      "execution_count": 6,
      "outputs": []
    },
    {
      "cell_type": "code",
      "metadata": {
        "id": "a1jEAEZCKQIU"
      },
      "source": [
        "train_set = second_Dataset(train_csv2, transform=transforms.Compose([transforms.ToTensor()]))\n",
        "test_set = second_Dataset(test_csv2, transform=transforms.Compose([transforms.ToTensor()]))\n",
        "\n",
        "train_loader = DataLoader(train_set, batch_size=100)\n",
        "test_loader = DataLoader(train_set, batch_size=100)"
      ],
      "execution_count": 7,
      "outputs": []
    },
    {
      "cell_type": "markdown",
      "metadata": {
        "id": "OywTz1uCLg_V"
      },
      "source": [
        "For experiment 1"
      ]
    },
    {
      "cell_type": "code",
      "metadata": {
        "id": "zS6BxZFxxtMk"
      },
      "source": [
        ""
      ],
      "execution_count": null,
      "outputs": []
    },
    {
      "cell_type": "code",
      "metadata": {
        "colab": {
          "base_uri": "https://localhost:8080/"
        },
        "id": "Za7FBndHL3HN",
        "outputId": "faf11123-c4d4-4a49-ed16-57ea3a53b6a3"
      },
      "source": [
        "print(len(train_set))\n",
        "print(len(test_set))"
      ],
      "execution_count": 8,
      "outputs": [
        {
          "output_type": "stream",
          "name": "stdout",
          "text": [
            "60000\n",
            "10000\n"
          ]
        }
      ]
    },
    {
      "cell_type": "code",
      "metadata": {
        "colab": {
          "base_uri": "https://localhost:8080/"
        },
        "id": "tdJtSw82MSSB",
        "outputId": "29a5f3b4-8a40-44e8-9e38-4dd8870bb4cd"
      },
      "source": [
        "# Hyperparameters\n",
        "\n",
        "batch_size = 20\n",
        "num_iters = 20000\n",
        "input_dim = 28*28 # num_features = 784\n",
        "num_hidden = 200 # num of hidden nodes\n",
        "output_dim = 10\n",
        "\n",
        "learning_rate = 0.01  # More power so we can learn faster! previously it was 0.001\n",
        "\n",
        "# Device\n",
        "device = torch.device(\"cuda:0\" if torch.cuda.is_available() else \"cpu\")\n",
        "\n",
        "\n",
        "\n",
        "\n",
        "'''\n",
        "MAKING DATASET ITERABLE\n",
        "'''\n",
        "num_epochs = num_iters / (len(train_set) / batch_size)\n",
        "num_epochs = int(num_epochs)\n",
        "\n",
        "train_loader = torch.utils.data.DataLoader(dataset=train_set, \n",
        "                                           batch_size=batch_size, \n",
        "                                           shuffle=True)   # It's better to shuffle the whole training dataset! \n",
        "\n",
        "test_loader = torch.utils.data.DataLoader(dataset=test_set, \n",
        "                                          batch_size=batch_size, \n",
        "                                          shuffle=False)\n",
        "\n",
        "\n",
        "\n",
        "\n",
        "\n",
        "class DeepNeuralNetworkModel(nn.Module):\n",
        "    def __init__(self, input_size, num_classes, num_hidden):\n",
        "        super().__init__()\n",
        "        ### 1st hidden layer: 784 --> 100\n",
        "        self.linear_1 = nn.Linear(input_size, num_hidden)\n",
        "        ### Non-linearity in 1st hidden layer\n",
        "        self.relu_1 = nn.ReLU()\n",
        "\n",
        "        ### 2nd hidden layer: 100 --> 100\n",
        "        self.linear_2 = nn.Linear(num_hidden, num_hidden)\n",
        "        ### Non-linearity in 2nd hidden layer\n",
        "        self.relu_2 = nn.ReLU()\n",
        "\n",
        "        ### 3rd hidden layer: 100 --> 100\n",
        "        self.linear_3 = nn.Linear(num_hidden, num_hidden)\n",
        "        ### Non-linearity in 2nd hidden layer\n",
        "        self.relu_3 = nn.ReLU()\n",
        "\n",
        "        ### 4th hidden layer: 100 --> 100\n",
        "        self.linear_4 = nn.Linear(num_hidden, num_hidden)\n",
        "        ### Non-linearity in 2nd hidden layer\n",
        "        self.relu_4 = nn.ReLU()\n",
        "\n",
        "        ### 5th hidden layer: 100 --> 100\n",
        "        self.linear_5 = nn.Linear(num_hidden, num_hidden)\n",
        "        ### Non-linearity in 2nd hidden layer\n",
        "        self.relu_5 = nn.ReLU()\n",
        "\n",
        "        ### 6th hidden layer: 100 --> 100\n",
        "        self.linear_6 = nn.Linear(num_hidden, num_hidden)\n",
        "        ### Non-linearity in 2nd hidden layer\n",
        "        self.relu_6 = nn.ReLU()\n",
        "\n",
        "        ### Output layer: 100 --> 10\n",
        "        self.linear_out = nn.Linear(num_hidden, num_classes)\n",
        "\n",
        "    def forward(self, x):\n",
        "        ### 1st hidden layer\n",
        "        out  = self.linear_1(x)\n",
        "        ### Non-linearity in 1st hidden layer\n",
        "        out = self.relu_1(out)\n",
        "        \n",
        "        ### 2nd hidden layer\n",
        "        out  = self.linear_2(out)\n",
        "        ### Non-linearity in 2nd hidden layer\n",
        "        out = self.relu_2(out)\n",
        "        \n",
        "        ### 3rd hidden layer\n",
        "        out  = self.linear_3(out)\n",
        "        ### Non-linearity in 1st hidden layer\n",
        "        out = self.relu_3(out)\n",
        "        \n",
        "        ### 4th hidden layer\n",
        "        out  = self.linear_4(out)\n",
        "        ### Non-linearity in 2nd hidden layer\n",
        "        out = self.relu_4(out)\n",
        "\n",
        "        ### 5th hidden layer\n",
        "        out  = self.linear_5(out)\n",
        "        ### Non-linearity in 1st hidden layer\n",
        "        out = self.relu_5(out)\n",
        "        \n",
        "        ### 6th hidden layer\n",
        "        out  = self.linear_6(out)\n",
        "        ### Non-linearity in 2nd hidden layer\n",
        "        out = self.relu_6(out)\n",
        "     \n",
        "        # Linear layer (output)\n",
        "        probas  = self.linear_out(out)\n",
        "        return probas\n",
        "\n",
        "\n",
        "# INSTANTIATE MODEL CLASS\n",
        "\n",
        "model = DeepNeuralNetworkModel(input_size = input_dim,\n",
        "                               num_classes = output_dim,\n",
        "                               num_hidden = num_hidden)\n",
        "# To enable GPU\n",
        "model.to(device)\n",
        "\n",
        "# INSTANTIATE LOSS & OPTIMIZER CLASS\n",
        "\n",
        "criterion = nn.CrossEntropyLoss()\n",
        "optimizer = torch.optim.SGD(model.parameters(), lr=learning_rate)\n",
        "iteration_loss= []\n",
        "iter = 0\n",
        "for epoch in range(num_epochs):\n",
        "    for i, (images, labels) in enumerate(train_loader):\n",
        "\n",
        "        images = images.view(-1, 28*28).to(device)\n",
        "        labels = labels.to(device)\n",
        "\n",
        "        # Clear gradients w.r.t. parameters\n",
        "        optimizer.zero_grad()\n",
        "\n",
        "        # Forward pass to get output/logits\n",
        "        outputs = model(images) \n",
        "\n",
        "        # Calculate Loss: softmax --> cross entropy loss\n",
        "        loss = criterion(outputs, labels)\n",
        "\n",
        "        # Getting gradients w.r.t. parameters\n",
        "        loss.backward()\n",
        "\n",
        "        # Updating parameters\n",
        "        optimizer.step()\n",
        "\n",
        "        iter += 1\n",
        "\n",
        "        if iter % 500 == 0:\n",
        "            # Calculate Accuracy         \n",
        "            correct = 0\n",
        "            total = 0\n",
        "            # Iterate through test dataset\n",
        "            for images, labels in test_loader:\n",
        "               \n",
        "                images = images.view(-1, 28*28).to(device)\n",
        "\n",
        "                # Forward pass only to get logits/output\n",
        "                outputs = model(images)\n",
        "\n",
        "                # Get predictions from the maximum value\n",
        "                _, predicted = torch.max(outputs, 1)\n",
        "\n",
        "                # Total number of labels\n",
        "                total += labels.size(0)\n",
        "\n",
        "\n",
        "                # Total correct predictions\n",
        "                if torch.cuda.is_available():\n",
        "                    correct += (predicted.cpu() == labels.cpu()).sum() \n",
        "                else:\n",
        "                    correct += (predicted == labels).sum()\n",
        "\n",
        "            accuracy = 100 * correct.item() / total\n",
        "\n",
        "            # Print Loss\n",
        "            iteration_loss.append(loss.item())\n",
        "            print('Iteration: {}. Loss: {}. Accuracy: {}'.format(iter, loss.item(), accuracy))"
      ],
      "execution_count": 9,
      "outputs": [
        {
          "output_type": "stream",
          "name": "stdout",
          "text": [
            "Iteration: 500. Loss: 0.844927966594696. Accuracy: 78.26\n",
            "Iteration: 1000. Loss: 0.5342625379562378. Accuracy: 79.91\n",
            "Iteration: 1500. Loss: 0.22071707248687744. Accuracy: 80.58\n",
            "Iteration: 2000. Loss: 0.32207849621772766. Accuracy: 82.85\n",
            "Iteration: 2500. Loss: 0.7806776762008667. Accuracy: 81.85\n",
            "Iteration: 3000. Loss: 0.40754127502441406. Accuracy: 84.43\n",
            "Iteration: 3500. Loss: 0.3720966875553131. Accuracy: 83.98\n",
            "Iteration: 4000. Loss: 0.5984009504318237. Accuracy: 83.78\n",
            "Iteration: 4500. Loss: 0.2792279124259949. Accuracy: 85.96\n",
            "Iteration: 5000. Loss: 0.6601005792617798. Accuracy: 85.93\n",
            "Iteration: 5500. Loss: 0.3023870885372162. Accuracy: 85.48\n",
            "Iteration: 6000. Loss: 0.7776738405227661. Accuracy: 86.91\n",
            "Iteration: 6500. Loss: 0.4310669004917145. Accuracy: 85.07\n",
            "Iteration: 7000. Loss: 0.4212283194065094. Accuracy: 85.68\n",
            "Iteration: 7500. Loss: 0.09715777635574341. Accuracy: 87.23\n",
            "Iteration: 8000. Loss: 0.38169851899147034. Accuracy: 87.04\n",
            "Iteration: 8500. Loss: 0.2357492446899414. Accuracy: 85.96\n",
            "Iteration: 9000. Loss: 0.1721164882183075. Accuracy: 85.81\n",
            "Iteration: 9500. Loss: 0.23548081517219543. Accuracy: 87.22\n",
            "Iteration: 10000. Loss: 0.251789391040802. Accuracy: 86.62\n",
            "Iteration: 10500. Loss: 0.6331750750541687. Accuracy: 86.7\n",
            "Iteration: 11000. Loss: 0.147830531001091. Accuracy: 87.68\n",
            "Iteration: 11500. Loss: 0.3701939582824707. Accuracy: 87.14\n",
            "Iteration: 12000. Loss: 0.9619559049606323. Accuracy: 80.21\n",
            "Iteration: 12500. Loss: 0.38062983751296997. Accuracy: 87.75\n",
            "Iteration: 13000. Loss: 0.34595921635627747. Accuracy: 85.13\n",
            "Iteration: 13500. Loss: 0.5159133672714233. Accuracy: 87.87\n",
            "Iteration: 14000. Loss: 0.30231863260269165. Accuracy: 87.24\n",
            "Iteration: 14500. Loss: 0.29796600341796875. Accuracy: 85.7\n",
            "Iteration: 15000. Loss: 0.4068363308906555. Accuracy: 87.61\n",
            "Iteration: 15500. Loss: 0.44353002309799194. Accuracy: 87.78\n",
            "Iteration: 16000. Loss: 0.8358348608016968. Accuracy: 86.63\n",
            "Iteration: 16500. Loss: 0.5238620042800903. Accuracy: 87.53\n",
            "Iteration: 17000. Loss: 0.5694743394851685. Accuracy: 87.92\n",
            "Iteration: 17500. Loss: 0.5149415731430054. Accuracy: 87.92\n",
            "Iteration: 18000. Loss: 0.38443055748939514. Accuracy: 88.17\n"
          ]
        }
      ]
    },
    {
      "cell_type": "code",
      "metadata": {
        "colab": {
          "base_uri": "https://localhost:8080/",
          "height": 316
        },
        "id": "Egeoid1fNCBc",
        "outputId": "0bacf970-a397-4336-d4c0-15b520f11eb3"
      },
      "source": [
        "import matplotlib\n",
        "import matplotlib.pyplot as plt\n",
        "\n",
        "print (iteration_loss)\n",
        "plt.plot(iteration_loss)\n",
        "plt.ylabel('Loss')\n",
        "plt.xlabel('Iteration (in every 500)')\n",
        "plt.show()"
      ],
      "execution_count": null,
      "outputs": [
        {
          "output_type": "stream",
          "name": "stdout",
          "text": [
            "[0.6538705229759216, 0.4414617419242859, 0.7060843706130981, 0.6090282201766968, 0.27332040667533875, 0.5749495029449463, 0.6689385175704956, 0.4866218566894531, 0.1841004341840744, 0.7911199331283569, 0.2194070816040039, 0.42351585626602173, 0.3640749454498291, 0.5355470180511475, 0.17288999259471893, 0.7089505195617676, 0.11387046426534653, 0.800849437713623, 0.2131715714931488, 0.3363208472728729, 0.5210429430007935, 0.3831520974636078, 0.4135584831237793, 0.22635900974273682, 0.6149506568908691, 0.18949632346630096, 0.2439127415418625, 0.22930827736854553, 0.2660154402256012, 0.3184342384338379, 0.2245796173810959, 0.5093971490859985, 0.1982053518295288, 0.47364410758018494, 0.47286257147789, 0.39440682530403137]\n"
          ]
        },
        {
          "output_type": "display_data",
          "data": {
            "image/png": "[encoded data removed]",
            "text/plain": [
              "<Figure size 432x288 with 1 Axes>"
            ]
          },
          "metadata": {
            "needs_background": "light"
          }
        }
      ]
    },
    {
      "cell_type": "code",
      "metadata": {
        "id": "elXhZZXaQRR_"
      },
      "source": [
        ""
      ],
      "execution_count": null,
      "outputs": []
    },
    {
      "cell_type": "markdown",
      "metadata": {
        "id": "EYDq9VlyQas5"
      },
      "source": [
        "For experiment 2"
      ]
    },
    {
      "cell_type": "code",
      "metadata": {
        "colab": {
          "base_uri": "https://localhost:8080/"
        },
        "id": "MjVggKBIQsiB",
        "outputId": "f676d6f4-91e9-4ca8-f4bf-3384750bba4d"
      },
      "source": [
        "# Hyperparameters\n",
        "\n",
        "batch_size = 100\n",
        "num_iters = 45000\n",
        "input_dim = 28*28 # num_features = 784\n",
        "num_hidden = 1000 # num of hidden nodes\n",
        "output_dim = 10\n",
        "\n",
        "learning_rate = 0.01  # More power so we can learn faster! previously it was 0.001\n",
        "\n",
        "# Device\n",
        "device = torch.device(\"cuda:0\" if torch.cuda.is_available() else \"cpu\")\n",
        "\n",
        "\n",
        "'''\n",
        "MAKING DATASET ITERABLE\n",
        "'''\n",
        "num_epochs = num_iters / (len(train_set) / batch_size)\n",
        "num_epochs = int(num_epochs)\n",
        "\n",
        "train_loader = torch.utils.data.DataLoader(dataset=train_set, \n",
        "                                           batch_size=batch_size, \n",
        "                                           shuffle=True)   # It's better to shuffle the whole training dataset! \n",
        "\n",
        "test_loader = torch.utils.data.DataLoader(dataset=test_set, \n",
        "                                          batch_size=batch_size, \n",
        "                                          shuffle=False)  \n",
        "\n",
        "class DeepNeuralNetworkModel(nn.Module):\n",
        "    def __init__(self, input_size, num_classes, num_hidden):\n",
        "        super().__init__()\n",
        "        ### 1st hidden layer: 784 --> 100\n",
        "        self.linear_1 = nn.Linear(input_size, num_hidden)\n",
        "        ### Non-linearity in 1st hidden layer\n",
        "        self.relu_1 = nn.ReLU()\n",
        "\n",
        "        ### 2nd hidden layer: 100 --> 100\n",
        "        self.linear_2 = nn.Linear(num_hidden, num_hidden)\n",
        "        ### Non-linearity in 2nd hidden layer\n",
        "        self.relu_2 = nn.ReLU()\n",
        "\n",
        "        ### 3rd hidden layer: 100 --> 100\n",
        "        self.linear_3 = nn.Linear(num_hidden, num_hidden)\n",
        "        ### Non-linearity in 3rd hidden layer\n",
        "        self.relu_3 = nn.ReLU()\n",
        "\n",
        "        ### 4th hidden layer: 100 --> 100\n",
        "        self.linear_4 = nn.Linear(num_hidden, num_hidden)\n",
        "        ### Non-linearity in 4th hidden layer\n",
        "        self.relu_4 = nn.ReLU()\n",
        "\n",
        "        ### 5th hidden layer: 100 --> 100\n",
        "        self.linear_5 = nn.Linear(num_hidden, num_hidden)\n",
        "        ### Non-linearity in 5th hidden layer\n",
        "        self.relu_5 = nn.ReLU()\n",
        "\n",
        "        ### 6th hidden layer: 100 --> 100\n",
        "        self.linear_6 = nn.Linear(num_hidden, num_hidden)\n",
        "        ### Non-linearity in 6th hidden layer\n",
        "        self.relu_6 = nn.ReLU()\n",
        "\n",
        "        ### Output layer: 100 --> 10\n",
        "        self.linear_out = nn.Linear(num_hidden, num_classes)\n",
        "\n",
        "    def forward(self, x):\n",
        "        ### 1st hidden layer\n",
        "        out  = self.linear_1(x)\n",
        "        ### Non-linearity in 1st hidden layer\n",
        "        out = self.relu_1(out)\n",
        "        \n",
        "        ### 2nd hidden layer\n",
        "        out  = self.linear_2(out)\n",
        "        ### Non-linearity in 2nd hidden layer\n",
        "        out = self.relu_2(out)\n",
        "        \n",
        "        ### 3rd hidden layer\n",
        "        out  = self.linear_3(out)\n",
        "        ### Non-linearity in 1st hidden layer\n",
        "        out = self.relu_3(out)\n",
        "\n",
        "         ### 4rd hidden layer\n",
        "        out  = self.linear_4(out)\n",
        "        ### Non-linearity in 1st hidden layer\n",
        "        out = self.relu_4(out)\n",
        "\n",
        "      ### 5rd hidden layer\n",
        "        out  = self.linear_5(out)\n",
        "        ### Non-linearity in 1st hidden layer\n",
        "        out = self.relu_5(out)\n",
        "\n",
        "      ### 6rd hidden layer\n",
        "        out  = self.linear_6(out)\n",
        "        ### Non-linearity in 1st hidden layer\n",
        "        out = self.relu_6(out)\n",
        "      \n",
        "        # Linear layer (output)\n",
        "        probas  = self.linear_out(out)\n",
        "        return probas\n",
        "\n",
        "\n",
        "# INSTANTIATE MODEL CLASS\n",
        "\n",
        "model = DeepNeuralNetworkModel(input_size = input_dim,\n",
        "                               num_classes = output_dim,\n",
        "                               num_hidden = num_hidden)\n",
        "# To enable GPU\n",
        "model.to(device)\n",
        "\n",
        "# INSTANTIATE LOSS & OPTIMIZER CLASS\n",
        "\n",
        "criterion = nn.CrossEntropyLoss()\n",
        "optimizer = torch.optim.SGD(model.parameters(), lr=learning_rate)\n",
        "\n",
        "iteration_loss = []\n",
        "iter = 0\n",
        "for epoch in range(num_epochs):\n",
        "    for i, (images, labels) in enumerate(train_loader):\n",
        "\n",
        "        images = images.view(-1, 28*28).to(device)\n",
        "        labels = labels.to(device)\n",
        "\n",
        "        # Clear gradients w.r.t. parameters\n",
        "        optimizer.zero_grad()\n",
        "\n",
        "        # Forward pass to get output/logits\n",
        "        outputs = model(images) \n",
        "\n",
        "        # Calculate Loss: softmax --> cross entropy loss\n",
        "        loss = criterion(outputs, labels)\n",
        "\n",
        "        # Getting gradients w.r.t. parameters\n",
        "        loss.backward()\n",
        "\n",
        "        # Updating parameters\n",
        "        optimizer.step()\n",
        "\n",
        "        iter += 1\n",
        "\n",
        "        if iter % 500 == 0:\n",
        "            # Calculate Accuracy         \n",
        "            correct = 0\n",
        "            total = 0\n",
        "            # Iterate through test dataset\n",
        "            for images, labels in test_loader:\n",
        "               \n",
        "                images = images.view(-1, 28*28).to(device)\n",
        "\n",
        "                # Forward pass only to get logits/output\n",
        "                outputs = model(images)\n",
        "\n",
        "                # Get predictions from the maximum value\n",
        "                _, predicted = torch.max(outputs, 1)\n",
        "\n",
        "                # Total number of labels\n",
        "                total += labels.size(0)\n",
        "\n",
        "\n",
        "                # Total correct predictions\n",
        "                if torch.cuda.is_available():\n",
        "                    correct += (predicted.cpu() == labels.cpu()).sum() \n",
        "                else:\n",
        "                    correct += (predicted == labels).sum()\n",
        "\n",
        "            accuracy = 100 * correct.item() / total\n",
        "\n",
        "            # Print Loss\n",
        "            iteration_loss.append(loss.item())\n",
        "            print('Iteration: {}. Loss: {}. Accuracy: {}'.format(iter, loss.item(), accuracy))\n"
      ],
      "execution_count": 10,
      "outputs": [
        {
          "output_type": "stream",
          "name": "stdout",
          "text": [
            "Iteration: 500. Loss: 0.45789197087287903. Accuracy: 83.63\n",
            "Iteration: 1000. Loss: 0.3187745213508606. Accuracy: 85.23\n",
            "Iteration: 1500. Loss: 0.36066150665283203. Accuracy: 87.99\n",
            "Iteration: 2000. Loss: 0.43407905101776123. Accuracy: 87.2\n",
            "Iteration: 2500. Loss: 0.43197426199913025. Accuracy: 87.19\n",
            "Iteration: 3000. Loss: 0.3879784047603607. Accuracy: 88.18\n",
            "Iteration: 3500. Loss: 0.4549638628959656. Accuracy: 86.74\n",
            "Iteration: 4000. Loss: 0.2637764811515808. Accuracy: 88.84\n",
            "Iteration: 4500. Loss: 0.2971224784851074. Accuracy: 89.07\n",
            "Iteration: 5000. Loss: 0.2615465819835663. Accuracy: 89.01\n",
            "Iteration: 5500. Loss: 0.27468234300613403. Accuracy: 87.42\n",
            "Iteration: 6000. Loss: 0.20555420219898224. Accuracy: 88.63\n",
            "Iteration: 6500. Loss: 0.34566619992256165. Accuracy: 87.73\n",
            "Iteration: 7000. Loss: 0.2504616677761078. Accuracy: 88.21\n",
            "Iteration: 7500. Loss: 0.13210414350032806. Accuracy: 89.1\n",
            "Iteration: 8000. Loss: 0.2074507772922516. Accuracy: 89.72\n",
            "Iteration: 8500. Loss: 0.11178787052631378. Accuracy: 89.55\n",
            "Iteration: 9000. Loss: 0.1642274260520935. Accuracy: 88.9\n",
            "Iteration: 9500. Loss: 0.23097474873065948. Accuracy: 89.88\n",
            "Iteration: 10000. Loss: 0.22186951339244843. Accuracy: 89.96\n",
            "Iteration: 10500. Loss: 0.05871479958295822. Accuracy: 89.54\n",
            "Iteration: 11000. Loss: 0.11434201896190643. Accuracy: 89.74\n",
            "Iteration: 11500. Loss: 0.07740695774555206. Accuracy: 90.32\n",
            "Iteration: 12000. Loss: 0.08854298293590546. Accuracy: 89.92\n",
            "Iteration: 12500. Loss: 0.06977982074022293. Accuracy: 89.58\n",
            "Iteration: 13000. Loss: 0.10998285561800003. Accuracy: 90.08\n",
            "Iteration: 13500. Loss: 0.11417502164840698. Accuracy: 89.66\n",
            "Iteration: 14000. Loss: 0.1420830488204956. Accuracy: 89.36\n",
            "Iteration: 14500. Loss: 0.1403798609972. Accuracy: 90.22\n",
            "Iteration: 15000. Loss: 0.13143742084503174. Accuracy: 89.53\n",
            "Iteration: 15500. Loss: 0.07111654430627823. Accuracy: 90.15\n",
            "Iteration: 16000. Loss: 0.09916941821575165. Accuracy: 90.33\n",
            "Iteration: 16500. Loss: 0.15514332056045532. Accuracy: 89.51\n",
            "Iteration: 17000. Loss: 0.11787727475166321. Accuracy: 90.06\n",
            "Iteration: 17500. Loss: 0.05162716284394264. Accuracy: 90.18\n",
            "Iteration: 18000. Loss: 0.020811347290873528. Accuracy: 90.14\n",
            "Iteration: 18500. Loss: 0.03594107925891876. Accuracy: 90.45\n",
            "Iteration: 19000. Loss: 0.07689134776592255. Accuracy: 89.98\n",
            "Iteration: 19500. Loss: 0.028631050139665604. Accuracy: 90.42\n",
            "Iteration: 20000. Loss: 0.01785213127732277. Accuracy: 90.56\n",
            "Iteration: 20500. Loss: 0.050261616706848145. Accuracy: 90.37\n",
            "Iteration: 21000. Loss: 0.1588623970746994. Accuracy: 89.63\n",
            "Iteration: 21500. Loss: 0.07564675062894821. Accuracy: 89.54\n",
            "Iteration: 22000. Loss: 0.03631795570254326. Accuracy: 89.93\n",
            "Iteration: 22500. Loss: 0.01755981519818306. Accuracy: 90.39\n",
            "Iteration: 23000. Loss: 0.0668938085436821. Accuracy: 90.06\n",
            "Iteration: 23500. Loss: 0.010894506238400936. Accuracy: 90.58\n",
            "Iteration: 24000. Loss: 0.024927299469709396. Accuracy: 89.75\n",
            "Iteration: 24500. Loss: 0.05300919711589813. Accuracy: 89.88\n",
            "Iteration: 25000. Loss: 0.17048059403896332. Accuracy: 89.02\n",
            "Iteration: 25500. Loss: 0.016975853592157364. Accuracy: 90.6\n",
            "Iteration: 26000. Loss: 0.0311883594840765. Accuracy: 90.58\n",
            "Iteration: 26500. Loss: 0.0178486630320549. Accuracy: 90.72\n",
            "Iteration: 27000. Loss: 0.12984177470207214. Accuracy: 90.0\n",
            "Iteration: 27500. Loss: 0.049048587679862976. Accuracy: 90.48\n",
            "Iteration: 28000. Loss: 0.0838230550289154. Accuracy: 89.77\n",
            "Iteration: 28500. Loss: 0.023231763392686844. Accuracy: 90.47\n",
            "Iteration: 29000. Loss: 0.014393573626875877. Accuracy: 90.39\n",
            "Iteration: 29500. Loss: 0.03500119224190712. Accuracy: 90.76\n",
            "Iteration: 30000. Loss: 0.06351858377456665. Accuracy: 90.68\n",
            "Iteration: 30500. Loss: 0.016559120267629623. Accuracy: 90.03\n",
            "Iteration: 31000. Loss: 0.04583653062582016. Accuracy: 89.8\n",
            "Iteration: 31500. Loss: 0.00483098067343235. Accuracy: 90.54\n",
            "Iteration: 32000. Loss: 0.010449494235217571. Accuracy: 90.83\n",
            "Iteration: 32500. Loss: 0.014178294688463211. Accuracy: 90.78\n",
            "Iteration: 33000. Loss: 0.007412364706397057. Accuracy: 90.24\n",
            "Iteration: 33500. Loss: 0.020663287490606308. Accuracy: 90.45\n",
            "Iteration: 34000. Loss: 0.03310670331120491. Accuracy: 90.65\n",
            "Iteration: 34500. Loss: 0.010039085522294044. Accuracy: 90.16\n",
            "Iteration: 35000. Loss: 0.003322796430438757. Accuracy: 90.6\n",
            "Iteration: 35500. Loss: 0.039063867181539536. Accuracy: 90.04\n",
            "Iteration: 36000. Loss: 0.7995316982269287. Accuracy: 84.22\n",
            "Iteration: 36500. Loss: 0.040957532823085785. Accuracy: 90.58\n",
            "Iteration: 37000. Loss: 0.10275012254714966. Accuracy: 88.86\n",
            "Iteration: 37500. Loss: 0.06507778912782669. Accuracy: 90.6\n",
            "Iteration: 38000. Loss: 0.007172569632530212. Accuracy: 90.81\n",
            "Iteration: 38500. Loss: 0.0074045080691576. Accuracy: 90.41\n",
            "Iteration: 39000. Loss: 0.012713203206658363. Accuracy: 90.89\n",
            "Iteration: 39500. Loss: 0.002473629778251052. Accuracy: 90.47\n",
            "Iteration: 40000. Loss: 0.01178744062781334. Accuracy: 90.81\n",
            "Iteration: 40500. Loss: 0.00367861264385283. Accuracy: 90.1\n",
            "Iteration: 41000. Loss: 0.002335095312446356. Accuracy: 90.58\n",
            "Iteration: 41500. Loss: 0.01572859287261963. Accuracy: 90.55\n",
            "Iteration: 42000. Loss: 0.0014831057051196694. Accuracy: 90.97\n",
            "Iteration: 42500. Loss: 0.0002892848278861493. Accuracy: 91.21\n",
            "Iteration: 43000. Loss: 4.5881224650656804e-05. Accuracy: 91.17\n",
            "Iteration: 43500. Loss: 9.527097427053377e-05. Accuracy: 91.2\n",
            "Iteration: 44000. Loss: 1.0915195161942393e-05. Accuracy: 91.19\n",
            "Iteration: 44500. Loss: 8.738231554161757e-05. Accuracy: 91.2\n",
            "Iteration: 45000. Loss: 0.00015908466593828052. Accuracy: 91.22\n"
          ]
        }
      ]
    },
    {
      "cell_type": "code",
      "metadata": {
        "colab": {
          "base_uri": "https://localhost:8080/",
          "height": 316
        },
        "id": "sRwHUTSiRARF",
        "outputId": "cebe0b17-349e-48c6-be0a-9d05c91302ab"
      },
      "source": [
        "import matplotlib\n",
        "import matplotlib.pyplot as plt\n",
        "\n",
        "print (iteration_loss)\n",
        "plt.plot(iteration_loss)\n",
        "plt.ylabel('Loss')\n",
        "plt.xlabel('Iteration (in every 500)')\n",
        "plt.show()"
      ],
      "execution_count": 11,
      "outputs": [
        {
          "output_type": "stream",
          "name": "stdout",
          "text": [
            "[0.45789197087287903, 0.3187745213508606, 0.36066150665283203, 0.43407905101776123, 0.43197426199913025, 0.3879784047603607, 0.4549638628959656, 0.2637764811515808, 0.2971224784851074, 0.2615465819835663, 0.27468234300613403, 0.20555420219898224, 0.34566619992256165, 0.2504616677761078, 0.13210414350032806, 0.2074507772922516, 0.11178787052631378, 0.1642274260520935, 0.23097474873065948, 0.22186951339244843, 0.05871479958295822, 0.11434201896190643, 0.07740695774555206, 0.08854298293590546, 0.06977982074022293, 0.10998285561800003, 0.11417502164840698, 0.1420830488204956, 0.1403798609972, 0.13143742084503174, 0.07111654430627823, 0.09916941821575165, 0.15514332056045532, 0.11787727475166321, 0.05162716284394264, 0.020811347290873528, 0.03594107925891876, 0.07689134776592255, 0.028631050139665604, 0.01785213127732277, 0.050261616706848145, 0.1588623970746994, 0.07564675062894821, 0.03631795570254326, 0.01755981519818306, 0.0668938085436821, 0.010894506238400936, 0.024927299469709396, 0.05300919711589813, 0.17048059403896332, 0.016975853592157364, 0.0311883594840765, 0.0178486630320549, 0.12984177470207214, 0.049048587679862976, 0.0838230550289154, 0.023231763392686844, 0.014393573626875877, 0.03500119224190712, 0.06351858377456665, 0.016559120267629623, 0.04583653062582016, 0.00483098067343235, 0.010449494235217571, 0.014178294688463211, 0.007412364706397057, 0.020663287490606308, 0.03310670331120491, 0.010039085522294044, 0.003322796430438757, 0.039063867181539536, 0.7995316982269287, 0.040957532823085785, 0.10275012254714966, 0.06507778912782669, 0.007172569632530212, 0.0074045080691576, 0.012713203206658363, 0.002473629778251052, 0.01178744062781334, 0.00367861264385283, 0.002335095312446356, 0.01572859287261963, 0.0014831057051196694, 0.0002892848278861493, 4.5881224650656804e-05, 9.527097427053377e-05, 1.0915195161942393e-05, 8.738231554161757e-05, 0.00015908466593828052]\n"
          ]
        },
        {
          "output_type": "display_data",
          "data": {
            "image/png": "[encoded data removed]",
            "text/plain": [
              "<Figure size 432x288 with 1 Axes>"
            ]
          },
          "metadata": {
            "needs_background": "light"
          }
        }
      ]
    },
    {
      "cell_type": "code",
      "metadata": {
        "id": "nPuF3fuNVaRQ"
      },
      "source": [
        ""
      ],
      "execution_count": null,
      "outputs": []
    }
  ]
}